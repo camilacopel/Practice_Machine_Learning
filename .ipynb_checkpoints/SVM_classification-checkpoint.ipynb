{
 "cells": [
  {
   "cell_type": "markdown",
   "metadata": {},
   "source": [
    "# SUPPORT VECTOR MACHINES\n",
    "\n",
    "SVM aplicado ao sistema de classificação, embora seja um algoritmo potente em problemas de regressão.\n",
    "\n",
    "Visando separar classes por uma linha reta, ou classes linearmente separáveis.\n",
    "\n",
    "Dataset = Iris Flowers\n"
   ]
  },
  {
   "cell_type": "code",
   "execution_count": null,
   "metadata": {},
   "outputs": [],
   "source": [
    "from sklearn.dataset import load_iris\n",
    "import pandas as od\n",
    "import seaborn as sns"
   ]
  },
  {
   "cell_type": "code",
   "execution_count": null,
   "metadata": {},
   "outputs": [],
   "source": [
    "#Transformando os dados em um Da\n",
    "iris = load_iris()\n",
    "df_iris = pd.DataFrame(data=iris.data, columns= iris.feature_names)"
   ]
  },
  {
   "cell_type": "code",
   "execution_count": null,
   "metadata": {},
   "outputs": [],
   "source": []
  },
  {
   "cell_type": "code",
   "execution_count": null,
   "metadata": {},
   "outputs": [],
   "source": []
  }
 ],
 "metadata": {
  "kernelspec": {
   "display_name": "Python 3 (ipykernel)",
   "language": "python",
   "name": "python3"
  },
  "language_info": {
   "codemirror_mode": {
    "name": "ipython",
    "version": 3
   },
   "file_extension": ".py",
   "mimetype": "text/x-python",
   "name": "python",
   "nbconvert_exporter": "python",
   "pygments_lexer": "ipython3",
   "version": "3.10.6"
  },
  "vscode": {
   "interpreter": {
    "hash": "3cd11e26993a27bba809c2c46778ebb9fb352933348c7a2a3f00cd704e8c58b9"
   }
  }
 },
 "nbformat": 4,
 "nbformat_minor": 2
}
